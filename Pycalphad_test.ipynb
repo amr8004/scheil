{
 "cells": [
  {
   "cell_type": "markdown",
   "metadata": {},
   "source": [
    "TO INSTALL, python setup.py --install in scheil base folder\n"
   ]
  },
  {
   "cell_type": "markdown",
   "metadata": {},
   "source": [
    "This section works. \n",
    "# IGNORE UNTIL command lines"
   ]
  },
  {
   "cell_type": "markdown",
   "metadata": {},
   "source": [
    "import pycalphad\n",
    "import matplotlib.pyplot as plt\n",
    "from pycalphad import Database, variables as v\n",
    "from scheil import simulate_scheil_solidification\n",
    "print(pycalphad.__version__)#0.10.1\n",
    "\n",
    "# setup the simulation parameters\n",
    "dbf = Database('C-Cr-Cu-Fe-Mo-Nb-Ni-02-20.tdb')\n",
    "comps = ['CU','NI','VA']\n",
    "phases = sorted(dbf.phases.keys()) #0.10.1\n",
    "print(phases)\n",
    "liquid_phase_name = 'LIQUID'\n",
    "initial_composition = {v.X('CU'): 0.2}\n",
    "start_temperature = 2000\n",
    "\n",
    "# perform the simulation\n",
    "sol_res = simulate_scheil_solidification(dbf, comps, phases, initial_composition, start_temperature, step_temperature=1.0)\n",
    "\n",
    "\n",
    "# plot the result\n",
    "for phase_name, amounts in sol_res.cum_phase_amounts.items():\n",
    "    if amounts[-1] > 0:\n",
    "        plt.plot(sol_res.temperatures, amounts, label=phase_name)\n",
    "plt.plot(sol_res.temperatures, sol_res.fraction_liquid, label='LIQUID')\n",
    "plt.ylabel('Phase Fraction')\n",
    "plt.xlabel('Temperature (K)')\n",
    "plt.legend(loc='best')\n",
    "plt.show()"
   ]
  },
  {
   "cell_type": "markdown",
   "metadata": {},
   "source": [
    "This section doesn't work and does not involve the previous given memory fix for mu phase"
   ]
  },
  {
   "cell_type": "markdown",
   "metadata": {},
   "source": [
    "import pycalphad\n",
    "import matplotlib.pyplot as plt\n",
    "from pycalphad import Database, variables as v\n",
    "from scheil import simulate_scheil_solidification\n",
    "print(pycalphad.__version__)\n",
    "\n",
    "# setup the simulation parameters\n",
    "dbf = Database('C-Cr-Cu-Fe-Mo-Nb-Ni-02-20.tdb')\n",
    "comps = ['Fe', 'CU','CR','NI','MO','VA']\n",
    "phases = sorted(dbf.phases.keys()) #0.10.1\n",
    "liquid_phase_name = 'LIQUID'\n",
    "initial_composition = {v.X('CU'): 0.2,v.X('CR'): 0.4,v.X('MO'): 0.01,v.X('FE'): 0.2}\n",
    "start_temperature = 2000\n",
    "print(phases)\n",
    "\n",
    "# perform the simulation\n",
    "sol_res = simulate_scheil_solidification(dbf, comps, phases, initial_composition, start_temperature, step_temperature=1.0,verbose=True,)\n",
    "\n",
    "\n",
    "# plot the result\n",
    "for phase_name, amounts in sol_res.cum_phase_amounts.items():\n",
    "    if amounts[-1] > 0:\n",
    "        plt.plot(sol_res.temperatures, amounts, label=phase_name)\n",
    "plt.plot(sol_res.temperatures, sol_res.fraction_liquid, label='LIQUID')\n",
    "plt.ylabel('Phase Fraction')\n",
    "plt.xlabel('Temperature (K)')\n",
    "plt.legend(loc='best')\n",
    "plt.show()"
   ]
  },
  {
   "cell_type": "markdown",
   "metadata": {},
   "source": [
    "import matplotlib.pyplot as plt\n",
    "from pycalphad import Database, binplot, equilibrium, Model\n",
    "import pycalphad.variables as v\n",
    "from symengine import Piecewise\n",
    "from pycalphad.core.utils import instantiate_models, filter_phases, unpack_components\n",
    "\n",
    "def unwrap_piecewise(graph):\n",
    "    replace_dict = {}\n",
    "    for atom in graph.atoms(Piecewise):\n",
    "        args = atom.args\n",
    "        # Unwrap temperature-dependent piecewise with zero-defaults\n",
    "        if len(args) == 4 and args[2] == 0 and args[3] == True and atom.args[1].free_symbols == {v.T}:\n",
    "            replace_dict[atom] = args[0]\n",
    "        elif len(args) == 4 and args[0] == 0 and args[2] == 0:\n",
    "            replace_dict[atom] = 0\n",
    "    return graph.xreplace(replace_dict)\n",
    "\n",
    "class CustomModel(Model):\n",
    "    def __init__(self, *args, **kwargs):\n",
    "        super().__init__(*args, **kwargs)\n",
    "        for name, value in self.models.items():\n",
    "            for _ in range(5):\n",
    "                self.models[name] = unwrap_piecewise(self.models[name])\n",
    "\n",
    "db=Database('C-Cr-Cu-Fe-Mo-Nb-Ni-10-05.tdb')\n",
    "comps2 = unpack_components(db, ['FE','NI','VA'])\n",
    "phases = db.phases.keys()\n",
    "phases = list(db.phases.keys())\n",
    "\n",
    "fig2 = plt.figure(figsize=(9,6))\n",
    "axes2 = fig2.gca()\n",
    "\n",
    "models = instantiate_models(db, comps2, filter_phases(db, comps2, phases), model=CustomModel)\n",
    "\n",
    "binplot(db, ['FE','NI','VA'] , phases, {v.X('NI'):(0,1,0.1), v.T: (300, 2000, 20), v.P:101325, v.N: 1},\n",
    "        plot_kwargs={'ax': axes2}, eq_kwargs={'model': models})\n",
    "\n",
    "plt.show()"
   ]
  },
  {
   "cell_type": "code",
   "execution_count": 9,
   "metadata": {},
   "outputs": [],
   "source": [
    "#WORKING SCHEIL FIX"
   ]
  },
  {
   "cell_type": "code",
   "execution_count": 1,
   "metadata": {},
   "outputs": [],
   "source": [
    "import scheil #this is importing scheil from github repository you download!"
   ]
  },
  {
   "cell_type": "code",
   "execution_count": 2,
   "metadata": {},
   "outputs": [
    {
     "data": {
      "text/plain": [
       "<module 'scheil' from 'C:\\\\Users\\\\xander\\\\Desktop\\\\Cu_FGM\\\\Zhening_Pycalphad_Issue\\\\scheil\\\\scheil\\\\__init__.py'>"
      ]
     },
     "execution_count": 2,
     "metadata": {},
     "output_type": "execute_result"
    }
   ],
   "source": [
    "scheil #should print DRIVELETTER:\\\\Users\\\\'USER'\\\\'DOWNLOADLOCATION'\\\\scheil\\\\scheil\\\\__init__.py'\n",
    "#or install location in general"
   ]
  },
  {
   "cell_type": "code",
   "execution_count": 3,
   "metadata": {},
   "outputs": [
    {
     "name": "stdout",
     "output_type": "stream",
     "text": [
      "0.10.2\n"
     ]
    }
   ],
   "source": [
    "#Need pycalphad, version likely not important but I use 0.10.2\n",
    "import pycalphad\n",
    "import matplotlib.pyplot as plt\n",
    "from pycalphad import Database, Model, binplot, variables as v\n",
    "from scheil import simulate_scheil_solidification\n",
    "from pycalphad.core.utils import instantiate_models, filter_phases, unpack_components\n",
    "from symengine import Piecewise\n",
    "print(pycalphad.__version__)"
   ]
  },
  {
   "cell_type": "markdown",
   "metadata": {},
   "source": [
    "#### This is part of the fix already implemented, you can ignore but this gives information on what was changed\n",
    "def unwrap_piecewise(graph):\n",
    "    replace_dict = {}\n",
    "    for atom in graph.atoms(Piecewise):\n",
    "        args = atom.args\n",
    "        # Unwrap temperature-dependent piecewise with zero-defaults\n",
    "        if len(args) == 4 and args[2] == 0 and args[3] == True and atom.args[1].free_symbols == {v.T}:\n",
    "            replace_dict[atom] = args[0]\n",
    "        elif len(args) == 4 and args[0] == 0 and args[2] == 0:\n",
    "            replace_dict[atom] = 0\n",
    "    return graph.xreplace(replace_dict)\n",
    "\n",
    "class CustomModel(Model):\n",
    "    def __init__(self, *args, **kwargs):\n",
    "        super().__init__(*args, **kwargs)\n",
    "        for name, value in self.models.items():\n",
    "            for _ in range(5):\n",
    "                self.models[name] = unwrap_piecewise(self.models[name])              \n",
    "\n"
   ]
  },
  {
   "cell_type": "code",
   "execution_count": 4,
   "metadata": {},
   "outputs": [
    {
     "name": "stdout",
     "output_type": "stream",
     "text": [
      "['BCC_A2', 'CEMENTITE_D011', 'CR3C2', 'DELTA', 'DIAMOND_A4', 'D_NIMO', 'FCC_A1', 'GAMMA_DOUBLE_PRIME', 'GAMMA_PRIME', 'GRAPHITE', 'HCP_A3', 'LAVES', 'LAVES_PHASE_C15', 'LIQUID', 'M23C6', 'M7C3', 'MC_ETA', 'MC_SHP', 'MONI4', 'MU_PHASE', 'NBB', 'NBNI8', 'NIAL', 'NITI2', 'ORD_FCC', 'R_PHASE', 'SIGMA']\n"
     ]
    }
   ],
   "source": [
    "# setup the simulation parameters for a complex run\n",
    "dbf = Database('C-Cr-Cu-Fe-Mo-Nb-Ni-02-20.tdb')\n",
    "comps = ['FE','CU','CR','NI','MO','VA']\n",
    "phases = sorted(dbf.phases.keys()) #0.10.1\n",
    "liquid_phase_name = 'LIQUID'\n",
    "initial_composition = {v.X('CU'): 0.2,v.X('CR'): 0.4,v.X('MO'): 0.01,v.X('FE'): 0.2}\n",
    "start_temperature = 2000\n",
    "print(phases)"
   ]
  },
  {
   "cell_type": "code",
   "execution_count": 5,
   "metadata": {},
   "outputs": [
    {
     "name": "stdout",
     "output_type": "stream",
     "text": [
      "['LIQUID', 'ORD_FCC']\n"
     ]
    }
   ],
   "source": [
    "# Simulation parameters\n",
    "comps = ['Fe', 'CU', 'CR', 'NI','VA']\n",
    "phases = ['LIQUID','ORD_FCC']\n",
    "print(phases)\n",
    "liquid_phase_name = 'LIQUID'\n",
    "initial_composition = {v.X('CU'): 0.068,v.X('CR'): 0.15,v.X('FE'): 0.5541}"
   ]
  },
  {
   "cell_type": "code",
   "execution_count": 6,
   "metadata": {},
   "outputs": [
    {
     "name": "stdout",
     "output_type": "stream",
     "text": [
      "models completed\n",
      "Assigning models\n",
      "Custom Models initiated\n",
      "Custom models completed\n",
      "building PhaseRecord objects... "
     ]
    },
    {
     "name": "stderr",
     "output_type": "stream",
     "text": [
      "C:\\Users\\xander\\anaconda3\\envs\\scheil_fix\\lib\\site-packages\\pycalphad\\model.py:1216: UserWarning: The order-disorder model for \"ORD_FCC\" has a contribution from the physical property model `magnetic_energy`. Partitioned physical properties are not correctly substituted into the disordered part of the energy. THE GIBBS ENERGY CALCULATED FOR THIS PHASE MAY BE INCORRECT. Please see the discussion in https://github.com/pycalphad/pycalphad/pull/311 for more details.\n",
      "  warnings.warn(\n"
     ]
    },
    {
     "name": "stdout",
     "output_type": "stream",
     "text": [
      "done\n",
      "generating points... LIQUID ORD_FCC "
     ]
    },
    {
     "name": "stderr",
     "output_type": "stream",
     "text": [
      "C:\\Users\\xander\\anaconda3\\envs\\scheil_fix\\lib\\site-packages\\pycalphad\\core\\utils.py:54: RuntimeWarning: invalid value encountered in divide\n",
      "  pts[:, cur_idx:end_idx] /= pts[:, cur_idx:end_idx].sum(axis=1)[:, None]\n"
     ]
    },
    {
     "name": "stdout",
     "output_type": "stream",
     "text": [
      "done\n",
      "Adding points to LIQUID. T=2000.000, X_CU=0.07, X_CR=0.15, X_FE=0.55, ΔT=100.000, NL: 1.000, NP(LIQUID)=1.000 \n",
      "Adding points to LIQUID. Adding points to ORD_FCC. New phases seen: {'FCC_A1'}. T=1900.000, X_CR=0.15, X_CU=0.07, X_FE=0.55, ΔT=100.000, NL: 0.119, NP(LIQUID)=0.119 NP(FCC_A1)=0.881 \n",
      "Adding points to ORD_FCC. Adding points to LIQUID. T=1800.000, X_CR=0.08, X_CU=0.22, X_FE=0.51, ΔT=100.000, NL: 0.062, NP(LIQUID)=0.523 NP(FCC_A1)=0.477 \n",
      "Adding points to ORD_FCC. Adding points to LIQUID. T=1700.000, X_CR=0.04, X_CU=0.37, X_FE=0.43, ΔT=100.000, NL: 0.030, NP(LIQUID)=0.487 NP(FCC_A1)=0.513 \n",
      "Adding points to ORD_FCC. Adding points to LIQUID. T=1600.000, X_CR=0.01, X_CU=0.67, X_FE=0.22, ΔT=100.000, NL: 0.023, NP(LIQUID)=0.775 NP(FCC_A1)=0.225 \n",
      "Adding points to LIQUID. Adding points to ORD_FCC. T=1500.000, X_CR=0.00, X_CU=0.84, X_FE=0.10, ΔT=100.000, NL: 0.022, NP(LIQUID)=0.921 NP(FCC_A1)=0.079 \n",
      "Adding points to ORD_FCC. Adding points to LIQUID. T=1400.000, X_CR=0.00, X_CU=0.90, X_FE=0.06, ΔT=100.000, NL: 0.021, NP(LIQUID)=0.959 NP(FCC_A1)=0.041 \n",
      "Adding points to ORD_FCC. Adding points to ORD_FCC. No liquid phase found at T=1300.000, X_CR=0.00, X_CU=0.93, X_FE=0.03. (Found {'FCC_A1'}) Stepping back and reducing step size.\n",
      "Adding points to ORD_FCC. No liquid phase found at T=1316.667, X_CR=0.00, X_CU=0.93, X_FE=0.03. (Found {'FCC_A1'}) Stepping back and reducing step size.\n",
      "Adding points to ORD_FCC. No liquid phase found at T=1330.556, X_CR=0.00, X_CU=0.93, X_FE=0.03. (Found {'FCC_A1'}) Stepping back and reducing step size.\n",
      "Adding points to ORD_FCC. No liquid phase found at T=1342.130, X_CR=0.00, X_CU=0.93, X_FE=0.03. (Found {'FCC_A1'}) Stepping back and reducing step size.\n",
      "Adding points to ORD_FCC. No liquid phase found at T=1351.775, X_CR=0.00, X_CU=0.93, X_FE=0.03. (Found {'FCC_A1'}) Stepping back and reducing step size.\n",
      "Adding points to ORD_FCC. No liquid phase found at T=1359.812, X_CR=0.00, X_CU=0.93, X_FE=0.03. (Found {'FCC_A1'}) Stepping back and reducing step size.\n",
      "Adding points to ORD_FCC. No liquid phase found at T=1366.510, X_CR=0.00, X_CU=0.93, X_FE=0.03. (Found {'FCC_A1'}) Stepping back and reducing step size.\n",
      "Adding points to ORD_FCC. No liquid phase found at T=1372.092, X_CR=0.00, X_CU=0.93, X_FE=0.03. (Found {'FCC_A1'}) Stepping back and reducing step size.\n",
      "Adding points to ORD_FCC. No liquid phase found at T=1376.743, X_CR=0.00, X_CU=0.93, X_FE=0.03. (Found {'FCC_A1'}) Stepping back and reducing step size.\n",
      "Adding points to ORD_FCC. No liquid phase found at T=1380.619, X_CR=0.00, X_CU=0.93, X_FE=0.03. (Found {'FCC_A1'}) Maximum step size reduction exceeded. Stopping.\n"
     ]
    }
   ],
   "source": [
    "#models = instantiate_models(dbf, comps, filter_phases(dbf, comps, phases), model=CustomModel)\n",
    "print(\"models completed\")\n",
    "#eq_kwargs is important, also change step_temperature to desired\n",
    "eq_kwargs={'calc_opts':{'grid_points': {'MU_PHASE': False}}}\n",
    "sol_res = simulate_scheil_solidification(dbf, comps, phases, initial_composition, start_temperature, step_temperature=100.0,verbose=True,model='Mu', eq_kwargs=eq_kwargs)\n"
   ]
  },
  {
   "cell_type": "code",
   "execution_count": 7,
   "metadata": {},
   "outputs": [
    {
     "name": "stdout",
     "output_type": "stream",
     "text": [
      "<SolidificationResult: scheil T=(2000.0 -> 1380.6) (FCC_A1)>\n"
     ]
    }
   ],
   "source": [
    "print(sol_res)"
   ]
  },
  {
   "cell_type": "code",
   "execution_count": 14,
   "metadata": {},
   "outputs": [
    {
     "data": {
      "image/png": "[encoded data removed]",
      "text/plain": [
       "<Figure size 640x480 with 1 Axes>"
      ]
     },
     "metadata": {},
     "output_type": "display_data"
    }
   ],
   "source": [
    "# plot the result\n",
    "for phase_name, amounts in sol_res.cum_phase_amounts.items():\n",
    "    if amounts[-1] > 0:\n",
    "        plt.plot(sol_res.temperatures, amounts, label=phase_name)\n",
    "plt.plot(sol_res.temperatures, sol_res.fraction_liquid, label='LIQUID')\n",
    "plt.ylabel('Phase Fraction')\n",
    "plt.xlabel('Temperature (K)')\n",
    "plt.legend(loc='best')\n",
    "plt.show()"
   ]
  },
  {
   "cell_type": "code",
   "execution_count": 9,
   "metadata": {},
   "outputs": [],
   "source": [
    "#EVERYTHING BELOW HERE IS GARBAGE, BUT IM scared to delete so ignore"
   ]
  },
  {
   "cell_type": "markdown",
   "metadata": {},
   "source": [
    "comps2=unpack_components(dbf,['CR', 'FE','MO','CU','NI','VA'])\n",
    "phases2 = filter_phases(dbf, unpack_components(dbf, comps), phases)\n",
    "print(phases2)\n",
    "models = instantiate_models(dbf, comps, phases2)\n",
    "models2 = instantiate_models(dbf, comps2, filter_phases(dbf, comps2, phases2), model=CustomModel)"
   ]
  },
  {
   "cell_type": "markdown",
   "metadata": {},
   "source": [
    "from pycalphad.codegen.callables import build_phase_records\n",
    "phase_records = build_phase_records(dbf, comps, phases2, [v.N, v.P, v.T], models2)"
   ]
  },
  {
   "cell_type": "markdown",
   "metadata": {},
   "source": [
    "\n",
    "eq=equilibrium(dbf,comps,phases2,{v.X('CU'): 0.2,v.X('CR'): 0.4,v.X('MO'): 0.01,v.X('FE'): 0.2, v.T: (500, 600, 100), v.N: 1, v.P:101325}, output='HM',verbose=True, model=models2, calc_opts={'grid_points': {'MU_PHASE': False}})"
   ]
  }
 ],
 "metadata": {
  "kernelspec": {
   "display_name": "Python 3 (ipykernel)",
   "language": "python",
   "name": "python3"
  },
  "language_info": {
   "codemirror_mode": {
    "name": "ipython",
    "version": 3
   },
   "file_extension": ".py",
   "mimetype": "text/x-python",
   "name": "python",
   "nbconvert_exporter": "python",
   "pygments_lexer": "ipython3",
   "version": "3.10.9"
  },
  "vscode": {
   "interpreter": {
    "hash": "3c29247e4560bbb41ec492432cdb05b3e1c3f07e654c338193a6c22e221be1a6"
   }
  }
 },
 "nbformat": 4,
 "nbformat_minor": 2
}
